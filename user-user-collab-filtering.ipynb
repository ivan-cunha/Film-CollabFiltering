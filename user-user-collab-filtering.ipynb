{
 "cells": [
  {
   "cell_type": "markdown",
   "id": "c7442e6b",
   "metadata": {},
   "source": [
    "# Setup"
   ]
  },
  {
   "cell_type": "code",
   "execution_count": 1,
   "id": "466e485a",
   "metadata": {},
   "outputs": [],
   "source": [
    "import pandas as pd\n",
    "import numpy as np\n",
    "import seaborn as sns"
   ]
  },
  {
   "cell_type": "code",
   "execution_count": 2,
   "id": "5e7a497d",
   "metadata": {},
   "outputs": [],
   "source": [
    "def crop(df, percent):\n",
    "    print(\"Users:\", len(df[\"userId\"].unique()))\n",
    "    print(\"Movies:\", len(df[\"movieId\"].unique()))\n",
    "    user_counts = df[\"userId\"].value_counts()\n",
    "    top_users = user_counts[user_counts > user_counts.quantile(percent)]\n",
    "    df = df[df[\"userId\"].isin(top_users.index)]\n",
    "    movie_counts = df[\"movieId\"].value_counts()\n",
    "    top_movies = movie_counts[movie_counts > movie_counts.quantile(percent)]\n",
    "    df = df[df[\"movieId\"].isin(top_movies.index)]\n",
    "    print(df.shape)\n",
    "    print(\"Users:\", len(df[\"userId\"].unique()))\n",
    "    print(\"Movies:\", len(df[\"movieId\"].unique()))\n",
    "    return df"
   ]
  },
  {
   "cell_type": "markdown",
   "id": "84736e25",
   "metadata": {},
   "source": [
    "Only a small portion of the dataset will be used, using only the 3% top movies that show in the dataset and top 3% of users."
   ]
  },
  {
   "cell_type": "code",
   "execution_count": 3,
   "id": "d126c3e9",
   "metadata": {},
   "outputs": [
    {
     "name": "stdout",
     "output_type": "stream",
     "text": [
      "Users: 138493\n",
      "Movies: 26744\n",
      "(1761018, 4)\n",
      "Users: 4144\n",
      "Movies: 770\n"
     ]
    }
   ],
   "source": [
    "df = pd.read_csv(\"./rating.csv\", sep=\",\")\n",
    "df = crop(df, 0.97)"
   ]
  },
  {
   "cell_type": "code",
   "execution_count": 4,
   "id": "6c8ca041",
   "metadata": {},
   "outputs": [],
   "source": [
    "df.drop(columns=[\"timestamp\"], inplace=True)"
   ]
  },
  {
   "cell_type": "markdown",
   "id": "46d6b79b",
   "metadata": {},
   "source": [
    "This is the initial dataset, with the User Id, Movie Id and rating. That is, we have the rating given by the user for every movie he rated."
   ]
  },
  {
   "cell_type": "code",
   "execution_count": 5,
   "id": "7493eb4c",
   "metadata": {},
   "outputs": [
    {
     "data": {
      "text/html": [
       "<div>\n",
       "<style scoped>\n",
       "    .dataframe tbody tr th:only-of-type {\n",
       "        vertical-align: middle;\n",
       "    }\n",
       "\n",
       "    .dataframe tbody tr th {\n",
       "        vertical-align: top;\n",
       "    }\n",
       "\n",
       "    .dataframe thead th {\n",
       "        text-align: right;\n",
       "    }\n",
       "</style>\n",
       "<table border=\"1\" class=\"dataframe\">\n",
       "  <thead>\n",
       "    <tr style=\"text-align: right;\">\n",
       "      <th></th>\n",
       "      <th>userId</th>\n",
       "      <th>movieId</th>\n",
       "      <th>rating</th>\n",
       "    </tr>\n",
       "  </thead>\n",
       "  <tbody>\n",
       "    <tr>\n",
       "      <th>5400</th>\n",
       "      <td>54</td>\n",
       "      <td>1</td>\n",
       "      <td>4.0</td>\n",
       "    </tr>\n",
       "    <tr>\n",
       "      <th>5401</th>\n",
       "      <td>54</td>\n",
       "      <td>2</td>\n",
       "      <td>3.0</td>\n",
       "    </tr>\n",
       "    <tr>\n",
       "      <th>5403</th>\n",
       "      <td>54</td>\n",
       "      <td>6</td>\n",
       "      <td>3.0</td>\n",
       "    </tr>\n",
       "    <tr>\n",
       "      <th>5404</th>\n",
       "      <td>54</td>\n",
       "      <td>10</td>\n",
       "      <td>4.0</td>\n",
       "    </tr>\n",
       "    <tr>\n",
       "      <th>5405</th>\n",
       "      <td>54</td>\n",
       "      <td>11</td>\n",
       "      <td>5.0</td>\n",
       "    </tr>\n",
       "  </tbody>\n",
       "</table>\n",
       "</div>"
      ],
      "text/plain": [
       "      userId  movieId  rating\n",
       "5400      54        1     4.0\n",
       "5401      54        2     3.0\n",
       "5403      54        6     3.0\n",
       "5404      54       10     4.0\n",
       "5405      54       11     5.0"
      ]
     },
     "execution_count": 5,
     "metadata": {},
     "output_type": "execute_result"
    }
   ],
   "source": [
    "df.head()"
   ]
  },
  {
   "cell_type": "code",
   "execution_count": 6,
   "id": "06b7b01d",
   "metadata": {},
   "outputs": [
    {
     "data": {
      "text/html": [
       "<div>\n",
       "<style scoped>\n",
       "    .dataframe tbody tr th:only-of-type {\n",
       "        vertical-align: middle;\n",
       "    }\n",
       "\n",
       "    .dataframe tbody tr th {\n",
       "        vertical-align: top;\n",
       "    }\n",
       "\n",
       "    .dataframe thead th {\n",
       "        text-align: right;\n",
       "    }\n",
       "</style>\n",
       "<table border=\"1\" class=\"dataframe\">\n",
       "  <thead>\n",
       "    <tr style=\"text-align: right;\">\n",
       "      <th></th>\n",
       "      <th>userId</th>\n",
       "      <th>movieId</th>\n",
       "      <th>rating</th>\n",
       "    </tr>\n",
       "  </thead>\n",
       "  <tbody>\n",
       "    <tr>\n",
       "      <th>count</th>\n",
       "      <td>1.761018e+06</td>\n",
       "      <td>1.761018e+06</td>\n",
       "      <td>1.761018e+06</td>\n",
       "    </tr>\n",
       "    <tr>\n",
       "      <th>mean</th>\n",
       "      <td>6.869181e+04</td>\n",
       "      <td>4.245153e+03</td>\n",
       "      <td>3.472575e+00</td>\n",
       "    </tr>\n",
       "    <tr>\n",
       "      <th>std</th>\n",
       "      <td>3.981728e+04</td>\n",
       "      <td>8.774164e+03</td>\n",
       "      <td>1.001159e+00</td>\n",
       "    </tr>\n",
       "    <tr>\n",
       "      <th>min</th>\n",
       "      <td>5.400000e+01</td>\n",
       "      <td>1.000000e+00</td>\n",
       "      <td>5.000000e-01</td>\n",
       "    </tr>\n",
       "    <tr>\n",
       "      <th>25%</th>\n",
       "      <td>3.440200e+04</td>\n",
       "      <td>1.129000e+03</td>\n",
       "      <td>3.000000e+00</td>\n",
       "    </tr>\n",
       "    <tr>\n",
       "      <th>50%</th>\n",
       "      <td>6.928200e+04</td>\n",
       "      <td>2.100000e+03</td>\n",
       "      <td>3.500000e+00</td>\n",
       "    </tr>\n",
       "    <tr>\n",
       "      <th>75%</th>\n",
       "      <td>1.025990e+05</td>\n",
       "      <td>3.793000e+03</td>\n",
       "      <td>4.000000e+00</td>\n",
       "    </tr>\n",
       "    <tr>\n",
       "      <th>max</th>\n",
       "      <td>1.384370e+05</td>\n",
       "      <td>7.913200e+04</td>\n",
       "      <td>5.000000e+00</td>\n",
       "    </tr>\n",
       "  </tbody>\n",
       "</table>\n",
       "</div>"
      ],
      "text/plain": [
       "             userId       movieId        rating\n",
       "count  1.761018e+06  1.761018e+06  1.761018e+06\n",
       "mean   6.869181e+04  4.245153e+03  3.472575e+00\n",
       "std    3.981728e+04  8.774164e+03  1.001159e+00\n",
       "min    5.400000e+01  1.000000e+00  5.000000e-01\n",
       "25%    3.440200e+04  1.129000e+03  3.000000e+00\n",
       "50%    6.928200e+04  2.100000e+03  3.500000e+00\n",
       "75%    1.025990e+05  3.793000e+03  4.000000e+00\n",
       "max    1.384370e+05  7.913200e+04  5.000000e+00"
      ]
     },
     "execution_count": 6,
     "metadata": {},
     "output_type": "execute_result"
    }
   ],
   "source": [
    "df.describe()"
   ]
  },
  {
   "cell_type": "markdown",
   "id": "67270ef7",
   "metadata": {},
   "source": [
    "We need to transform this into a matrix, with the Movie Id as column and User Id as index (this can be the other way arround)."
   ]
  },
  {
   "cell_type": "code",
   "execution_count": 7,
   "id": "130bb73a",
   "metadata": {},
   "outputs": [
    {
     "data": {
      "text/html": [
       "<div>\n",
       "<style scoped>\n",
       "    .dataframe tbody tr th:only-of-type {\n",
       "        vertical-align: middle;\n",
       "    }\n",
       "\n",
       "    .dataframe tbody tr th {\n",
       "        vertical-align: top;\n",
       "    }\n",
       "\n",
       "    .dataframe thead th {\n",
       "        text-align: right;\n",
       "    }\n",
       "</style>\n",
       "<table border=\"1\" class=\"dataframe\">\n",
       "  <thead>\n",
       "    <tr style=\"text-align: right;\">\n",
       "      <th>movieId</th>\n",
       "      <th>1</th>\n",
       "      <th>2</th>\n",
       "      <th>6</th>\n",
       "      <th>10</th>\n",
       "      <th>11</th>\n",
       "      <th>16</th>\n",
       "      <th>17</th>\n",
       "      <th>19</th>\n",
       "      <th>21</th>\n",
       "      <th>22</th>\n",
       "      <th>...</th>\n",
       "      <th>50872</th>\n",
       "      <th>51255</th>\n",
       "      <th>51662</th>\n",
       "      <th>54286</th>\n",
       "      <th>55820</th>\n",
       "      <th>56367</th>\n",
       "      <th>58559</th>\n",
       "      <th>59315</th>\n",
       "      <th>60069</th>\n",
       "      <th>79132</th>\n",
       "    </tr>\n",
       "    <tr>\n",
       "      <th>userId</th>\n",
       "      <th></th>\n",
       "      <th></th>\n",
       "      <th></th>\n",
       "      <th></th>\n",
       "      <th></th>\n",
       "      <th></th>\n",
       "      <th></th>\n",
       "      <th></th>\n",
       "      <th></th>\n",
       "      <th></th>\n",
       "      <th></th>\n",
       "      <th></th>\n",
       "      <th></th>\n",
       "      <th></th>\n",
       "      <th></th>\n",
       "      <th></th>\n",
       "      <th></th>\n",
       "      <th></th>\n",
       "      <th></th>\n",
       "      <th></th>\n",
       "      <th></th>\n",
       "    </tr>\n",
       "  </thead>\n",
       "  <tbody>\n",
       "    <tr>\n",
       "      <th>54</th>\n",
       "      <td>4.0</td>\n",
       "      <td>3.0</td>\n",
       "      <td>3.0</td>\n",
       "      <td>4.0</td>\n",
       "      <td>5.0</td>\n",
       "      <td>2.0</td>\n",
       "      <td>2.0</td>\n",
       "      <td>NaN</td>\n",
       "      <td>2.0</td>\n",
       "      <td>3.0</td>\n",
       "      <td>...</td>\n",
       "      <td>NaN</td>\n",
       "      <td>NaN</td>\n",
       "      <td>NaN</td>\n",
       "      <td>NaN</td>\n",
       "      <td>NaN</td>\n",
       "      <td>NaN</td>\n",
       "      <td>NaN</td>\n",
       "      <td>NaN</td>\n",
       "      <td>NaN</td>\n",
       "      <td>NaN</td>\n",
       "    </tr>\n",
       "    <tr>\n",
       "      <th>104</th>\n",
       "      <td>NaN</td>\n",
       "      <td>NaN</td>\n",
       "      <td>NaN</td>\n",
       "      <td>NaN</td>\n",
       "      <td>NaN</td>\n",
       "      <td>NaN</td>\n",
       "      <td>3.0</td>\n",
       "      <td>NaN</td>\n",
       "      <td>3.0</td>\n",
       "      <td>NaN</td>\n",
       "      <td>...</td>\n",
       "      <td>NaN</td>\n",
       "      <td>NaN</td>\n",
       "      <td>NaN</td>\n",
       "      <td>NaN</td>\n",
       "      <td>NaN</td>\n",
       "      <td>NaN</td>\n",
       "      <td>NaN</td>\n",
       "      <td>NaN</td>\n",
       "      <td>NaN</td>\n",
       "      <td>NaN</td>\n",
       "    </tr>\n",
       "    <tr>\n",
       "      <th>116</th>\n",
       "      <td>3.0</td>\n",
       "      <td>2.0</td>\n",
       "      <td>1.5</td>\n",
       "      <td>2.0</td>\n",
       "      <td>2.0</td>\n",
       "      <td>3.5</td>\n",
       "      <td>NaN</td>\n",
       "      <td>2.5</td>\n",
       "      <td>3.5</td>\n",
       "      <td>2.0</td>\n",
       "      <td>...</td>\n",
       "      <td>NaN</td>\n",
       "      <td>NaN</td>\n",
       "      <td>NaN</td>\n",
       "      <td>NaN</td>\n",
       "      <td>NaN</td>\n",
       "      <td>NaN</td>\n",
       "      <td>NaN</td>\n",
       "      <td>NaN</td>\n",
       "      <td>NaN</td>\n",
       "      <td>NaN</td>\n",
       "    </tr>\n",
       "    <tr>\n",
       "      <th>156</th>\n",
       "      <td>5.0</td>\n",
       "      <td>5.0</td>\n",
       "      <td>4.0</td>\n",
       "      <td>4.0</td>\n",
       "      <td>5.0</td>\n",
       "      <td>4.0</td>\n",
       "      <td>4.0</td>\n",
       "      <td>NaN</td>\n",
       "      <td>4.0</td>\n",
       "      <td>4.0</td>\n",
       "      <td>...</td>\n",
       "      <td>NaN</td>\n",
       "      <td>NaN</td>\n",
       "      <td>NaN</td>\n",
       "      <td>NaN</td>\n",
       "      <td>NaN</td>\n",
       "      <td>NaN</td>\n",
       "      <td>NaN</td>\n",
       "      <td>NaN</td>\n",
       "      <td>NaN</td>\n",
       "      <td>NaN</td>\n",
       "    </tr>\n",
       "    <tr>\n",
       "      <th>208</th>\n",
       "      <td>4.0</td>\n",
       "      <td>NaN</td>\n",
       "      <td>NaN</td>\n",
       "      <td>NaN</td>\n",
       "      <td>3.0</td>\n",
       "      <td>1.5</td>\n",
       "      <td>5.0</td>\n",
       "      <td>NaN</td>\n",
       "      <td>4.5</td>\n",
       "      <td>NaN</td>\n",
       "      <td>...</td>\n",
       "      <td>4.0</td>\n",
       "      <td>NaN</td>\n",
       "      <td>3.0</td>\n",
       "      <td>4.5</td>\n",
       "      <td>4.0</td>\n",
       "      <td>4.5</td>\n",
       "      <td>3.5</td>\n",
       "      <td>NaN</td>\n",
       "      <td>3.5</td>\n",
       "      <td>NaN</td>\n",
       "    </tr>\n",
       "  </tbody>\n",
       "</table>\n",
       "<p>5 rows × 770 columns</p>\n",
       "</div>"
      ],
      "text/plain": [
       "movieId  1      2      6      10     11     16     17     19     21     22     \\\n",
       "userId                                                                          \n",
       "54         4.0    3.0    3.0    4.0    5.0    2.0    2.0    NaN    2.0    3.0   \n",
       "104        NaN    NaN    NaN    NaN    NaN    NaN    3.0    NaN    3.0    NaN   \n",
       "116        3.0    2.0    1.5    2.0    2.0    3.5    NaN    2.5    3.5    2.0   \n",
       "156        5.0    5.0    4.0    4.0    5.0    4.0    4.0    NaN    4.0    4.0   \n",
       "208        4.0    NaN    NaN    NaN    3.0    1.5    5.0    NaN    4.5    NaN   \n",
       "\n",
       "movieId  ...  50872  51255  51662  54286  55820  56367  58559  59315  60069  \\\n",
       "userId   ...                                                                  \n",
       "54       ...    NaN    NaN    NaN    NaN    NaN    NaN    NaN    NaN    NaN   \n",
       "104      ...    NaN    NaN    NaN    NaN    NaN    NaN    NaN    NaN    NaN   \n",
       "116      ...    NaN    NaN    NaN    NaN    NaN    NaN    NaN    NaN    NaN   \n",
       "156      ...    NaN    NaN    NaN    NaN    NaN    NaN    NaN    NaN    NaN   \n",
       "208      ...    4.0    NaN    3.0    4.5    4.0    4.5    3.5    NaN    3.5   \n",
       "\n",
       "movieId  79132  \n",
       "userId          \n",
       "54         NaN  \n",
       "104        NaN  \n",
       "116        NaN  \n",
       "156        NaN  \n",
       "208        NaN  \n",
       "\n",
       "[5 rows x 770 columns]"
      ]
     },
     "execution_count": 7,
     "metadata": {},
     "output_type": "execute_result"
    }
   ],
   "source": [
    "matrix = df.pivot(index=\"userId\", columns=\"movieId\", values=\"rating\")\n",
    "matrix.head()"
   ]
  },
  {
   "cell_type": "markdown",
   "id": "364a43db",
   "metadata": {},
   "source": [
    "Next, for each rating, the user average rating will be removed. This is used to try to remove user the user bias. This way, negative ratings will mean the movie is bellow average for the user, and positive ratings will mean the movie is above average for the user"
   ]
  },
  {
   "cell_type": "code",
   "execution_count": 8,
   "id": "ec27f9f3",
   "metadata": {},
   "outputs": [
    {
     "data": {
      "text/html": [
       "<div>\n",
       "<style scoped>\n",
       "    .dataframe tbody tr th:only-of-type {\n",
       "        vertical-align: middle;\n",
       "    }\n",
       "\n",
       "    .dataframe tbody tr th {\n",
       "        vertical-align: top;\n",
       "    }\n",
       "\n",
       "    .dataframe thead th {\n",
       "        text-align: right;\n",
       "    }\n",
       "</style>\n",
       "<table border=\"1\" class=\"dataframe\">\n",
       "  <thead>\n",
       "    <tr style=\"text-align: right;\">\n",
       "      <th>movieId</th>\n",
       "      <th>1</th>\n",
       "      <th>2</th>\n",
       "      <th>6</th>\n",
       "      <th>10</th>\n",
       "      <th>11</th>\n",
       "      <th>16</th>\n",
       "      <th>17</th>\n",
       "      <th>19</th>\n",
       "      <th>21</th>\n",
       "      <th>22</th>\n",
       "      <th>...</th>\n",
       "      <th>50872</th>\n",
       "      <th>51255</th>\n",
       "      <th>51662</th>\n",
       "      <th>54286</th>\n",
       "      <th>55820</th>\n",
       "      <th>56367</th>\n",
       "      <th>58559</th>\n",
       "      <th>59315</th>\n",
       "      <th>60069</th>\n",
       "      <th>79132</th>\n",
       "    </tr>\n",
       "    <tr>\n",
       "      <th>userId</th>\n",
       "      <th></th>\n",
       "      <th></th>\n",
       "      <th></th>\n",
       "      <th></th>\n",
       "      <th></th>\n",
       "      <th></th>\n",
       "      <th></th>\n",
       "      <th></th>\n",
       "      <th></th>\n",
       "      <th></th>\n",
       "      <th></th>\n",
       "      <th></th>\n",
       "      <th></th>\n",
       "      <th></th>\n",
       "      <th></th>\n",
       "      <th></th>\n",
       "      <th></th>\n",
       "      <th></th>\n",
       "      <th></th>\n",
       "      <th></th>\n",
       "      <th></th>\n",
       "    </tr>\n",
       "  </thead>\n",
       "  <tbody>\n",
       "    <tr>\n",
       "      <th>54</th>\n",
       "      <td>0.289617</td>\n",
       "      <td>-0.710383</td>\n",
       "      <td>-0.710383</td>\n",
       "      <td>0.289617</td>\n",
       "      <td>1.289617</td>\n",
       "      <td>-1.710383</td>\n",
       "      <td>-1.710383</td>\n",
       "      <td>NaN</td>\n",
       "      <td>-1.710383</td>\n",
       "      <td>-0.710383</td>\n",
       "      <td>...</td>\n",
       "      <td>NaN</td>\n",
       "      <td>NaN</td>\n",
       "      <td>NaN</td>\n",
       "      <td>NaN</td>\n",
       "      <td>NaN</td>\n",
       "      <td>NaN</td>\n",
       "      <td>NaN</td>\n",
       "      <td>NaN</td>\n",
       "      <td>NaN</td>\n",
       "      <td>NaN</td>\n",
       "    </tr>\n",
       "    <tr>\n",
       "      <th>104</th>\n",
       "      <td>NaN</td>\n",
       "      <td>NaN</td>\n",
       "      <td>NaN</td>\n",
       "      <td>NaN</td>\n",
       "      <td>NaN</td>\n",
       "      <td>NaN</td>\n",
       "      <td>0.027132</td>\n",
       "      <td>NaN</td>\n",
       "      <td>0.027132</td>\n",
       "      <td>NaN</td>\n",
       "      <td>...</td>\n",
       "      <td>NaN</td>\n",
       "      <td>NaN</td>\n",
       "      <td>NaN</td>\n",
       "      <td>NaN</td>\n",
       "      <td>NaN</td>\n",
       "      <td>NaN</td>\n",
       "      <td>NaN</td>\n",
       "      <td>NaN</td>\n",
       "      <td>NaN</td>\n",
       "      <td>NaN</td>\n",
       "    </tr>\n",
       "    <tr>\n",
       "      <th>116</th>\n",
       "      <td>0.437630</td>\n",
       "      <td>-0.562370</td>\n",
       "      <td>-1.062370</td>\n",
       "      <td>-0.562370</td>\n",
       "      <td>-0.562370</td>\n",
       "      <td>0.937630</td>\n",
       "      <td>NaN</td>\n",
       "      <td>-0.06237</td>\n",
       "      <td>0.937630</td>\n",
       "      <td>-0.562370</td>\n",
       "      <td>...</td>\n",
       "      <td>NaN</td>\n",
       "      <td>NaN</td>\n",
       "      <td>NaN</td>\n",
       "      <td>NaN</td>\n",
       "      <td>NaN</td>\n",
       "      <td>NaN</td>\n",
       "      <td>NaN</td>\n",
       "      <td>NaN</td>\n",
       "      <td>NaN</td>\n",
       "      <td>NaN</td>\n",
       "    </tr>\n",
       "    <tr>\n",
       "      <th>156</th>\n",
       "      <td>0.913861</td>\n",
       "      <td>0.913861</td>\n",
       "      <td>-0.086139</td>\n",
       "      <td>-0.086139</td>\n",
       "      <td>0.913861</td>\n",
       "      <td>-0.086139</td>\n",
       "      <td>-0.086139</td>\n",
       "      <td>NaN</td>\n",
       "      <td>-0.086139</td>\n",
       "      <td>-0.086139</td>\n",
       "      <td>...</td>\n",
       "      <td>NaN</td>\n",
       "      <td>NaN</td>\n",
       "      <td>NaN</td>\n",
       "      <td>NaN</td>\n",
       "      <td>NaN</td>\n",
       "      <td>NaN</td>\n",
       "      <td>NaN</td>\n",
       "      <td>NaN</td>\n",
       "      <td>NaN</td>\n",
       "      <td>NaN</td>\n",
       "    </tr>\n",
       "    <tr>\n",
       "      <th>208</th>\n",
       "      <td>0.381643</td>\n",
       "      <td>NaN</td>\n",
       "      <td>NaN</td>\n",
       "      <td>NaN</td>\n",
       "      <td>-0.618357</td>\n",
       "      <td>-2.118357</td>\n",
       "      <td>1.381643</td>\n",
       "      <td>NaN</td>\n",
       "      <td>0.881643</td>\n",
       "      <td>NaN</td>\n",
       "      <td>...</td>\n",
       "      <td>0.381643</td>\n",
       "      <td>NaN</td>\n",
       "      <td>-0.618357</td>\n",
       "      <td>0.881643</td>\n",
       "      <td>0.381643</td>\n",
       "      <td>0.881643</td>\n",
       "      <td>-0.118357</td>\n",
       "      <td>NaN</td>\n",
       "      <td>-0.118357</td>\n",
       "      <td>NaN</td>\n",
       "    </tr>\n",
       "  </tbody>\n",
       "</table>\n",
       "<p>5 rows × 770 columns</p>\n",
       "</div>"
      ],
      "text/plain": [
       "movieId     1         2         6         10        11        16        17     \\\n",
       "userId                                                                          \n",
       "54       0.289617 -0.710383 -0.710383  0.289617  1.289617 -1.710383 -1.710383   \n",
       "104           NaN       NaN       NaN       NaN       NaN       NaN  0.027132   \n",
       "116      0.437630 -0.562370 -1.062370 -0.562370 -0.562370  0.937630       NaN   \n",
       "156      0.913861  0.913861 -0.086139 -0.086139  0.913861 -0.086139 -0.086139   \n",
       "208      0.381643       NaN       NaN       NaN -0.618357 -2.118357  1.381643   \n",
       "\n",
       "movieId    19        21        22     ...     50872  51255     51662  \\\n",
       "userId                                ...                              \n",
       "54           NaN -1.710383 -0.710383  ...       NaN    NaN       NaN   \n",
       "104          NaN  0.027132       NaN  ...       NaN    NaN       NaN   \n",
       "116     -0.06237  0.937630 -0.562370  ...       NaN    NaN       NaN   \n",
       "156          NaN -0.086139 -0.086139  ...       NaN    NaN       NaN   \n",
       "208          NaN  0.881643       NaN  ...  0.381643    NaN -0.618357   \n",
       "\n",
       "movieId     54286     55820     56367     58559  59315     60069  79132  \n",
       "userId                                                                   \n",
       "54            NaN       NaN       NaN       NaN    NaN       NaN    NaN  \n",
       "104           NaN       NaN       NaN       NaN    NaN       NaN    NaN  \n",
       "116           NaN       NaN       NaN       NaN    NaN       NaN    NaN  \n",
       "156           NaN       NaN       NaN       NaN    NaN       NaN    NaN  \n",
       "208      0.881643  0.381643  0.881643 -0.118357    NaN -0.118357    NaN  \n",
       "\n",
       "[5 rows x 770 columns]"
      ]
     },
     "execution_count": 8,
     "metadata": {},
     "output_type": "execute_result"
    }
   ],
   "source": [
    "matrix = matrix.apply(lambda row: row - row.mean(), axis=1)\n",
    "matrix.head()"
   ]
  },
  {
   "cell_type": "markdown",
   "id": "3e1fe078",
   "metadata": {},
   "source": [
    "# User-User Collaborative Filtering "
   ]
  },
  {
   "cell_type": "markdown",
   "id": "c29194aa",
   "metadata": {},
   "source": [
    "## Correlation Matrix"
   ]
  },
  {
   "cell_type": "markdown",
   "id": "10a12e57",
   "metadata": {},
   "source": [
    "This is the most costly operation, to calculate the correlation between every user. In this case, the Pearson Correlation will be used and each user needs to have at least 10 movies in common to have a correlation."
   ]
  },
  {
   "cell_type": "code",
   "execution_count": 9,
   "id": "4ce54053",
   "metadata": {},
   "outputs": [],
   "source": [
    "min_common_items = 10\n",
    "correlation_matrix = matrix.T.corr(method=\"pearson\", min_periods=min_common_items)"
   ]
  },
  {
   "cell_type": "code",
   "execution_count": 10,
   "id": "d9c1bcc1",
   "metadata": {},
   "outputs": [
    {
     "data": {
      "text/html": [
       "<div>\n",
       "<style scoped>\n",
       "    .dataframe tbody tr th:only-of-type {\n",
       "        vertical-align: middle;\n",
       "    }\n",
       "\n",
       "    .dataframe tbody tr th {\n",
       "        vertical-align: top;\n",
       "    }\n",
       "\n",
       "    .dataframe thead th {\n",
       "        text-align: right;\n",
       "    }\n",
       "</style>\n",
       "<table border=\"1\" class=\"dataframe\">\n",
       "  <thead>\n",
       "    <tr style=\"text-align: right;\">\n",
       "      <th>userId</th>\n",
       "      <th>54</th>\n",
       "      <th>104</th>\n",
       "      <th>116</th>\n",
       "      <th>156</th>\n",
       "      <th>208</th>\n",
       "      <th>298</th>\n",
       "      <th>347</th>\n",
       "      <th>348</th>\n",
       "      <th>359</th>\n",
       "      <th>367</th>\n",
       "      <th>...</th>\n",
       "      <th>138208</th>\n",
       "      <th>138254</th>\n",
       "      <th>138270</th>\n",
       "      <th>138301</th>\n",
       "      <th>138307</th>\n",
       "      <th>138325</th>\n",
       "      <th>138382</th>\n",
       "      <th>138397</th>\n",
       "      <th>138406</th>\n",
       "      <th>138437</th>\n",
       "    </tr>\n",
       "    <tr>\n",
       "      <th>userId</th>\n",
       "      <th></th>\n",
       "      <th></th>\n",
       "      <th></th>\n",
       "      <th></th>\n",
       "      <th></th>\n",
       "      <th></th>\n",
       "      <th></th>\n",
       "      <th></th>\n",
       "      <th></th>\n",
       "      <th></th>\n",
       "      <th></th>\n",
       "      <th></th>\n",
       "      <th></th>\n",
       "      <th></th>\n",
       "      <th></th>\n",
       "      <th></th>\n",
       "      <th></th>\n",
       "      <th></th>\n",
       "      <th></th>\n",
       "      <th></th>\n",
       "      <th></th>\n",
       "    </tr>\n",
       "  </thead>\n",
       "  <tbody>\n",
       "    <tr>\n",
       "      <th>54</th>\n",
       "      <td>1.000000</td>\n",
       "      <td>0.114553</td>\n",
       "      <td>0.269821</td>\n",
       "      <td>0.270802</td>\n",
       "      <td>0.172821</td>\n",
       "      <td>0.245273</td>\n",
       "      <td>0.223953</td>\n",
       "      <td>-0.070332</td>\n",
       "      <td>0.234784</td>\n",
       "      <td>0.116278</td>\n",
       "      <td>...</td>\n",
       "      <td>0.156200</td>\n",
       "      <td>0.235974</td>\n",
       "      <td>0.142072</td>\n",
       "      <td>0.173876</td>\n",
       "      <td>0.156422</td>\n",
       "      <td>0.249429</td>\n",
       "      <td>0.248317</td>\n",
       "      <td>0.173988</td>\n",
       "      <td>0.286939</td>\n",
       "      <td>0.190875</td>\n",
       "    </tr>\n",
       "    <tr>\n",
       "      <th>104</th>\n",
       "      <td>0.114553</td>\n",
       "      <td>1.000000</td>\n",
       "      <td>0.202915</td>\n",
       "      <td>0.088366</td>\n",
       "      <td>0.304880</td>\n",
       "      <td>-0.099429</td>\n",
       "      <td>0.399825</td>\n",
       "      <td>0.220794</td>\n",
       "      <td>0.183705</td>\n",
       "      <td>0.156648</td>\n",
       "      <td>...</td>\n",
       "      <td>0.112484</td>\n",
       "      <td>0.158680</td>\n",
       "      <td>0.221710</td>\n",
       "      <td>0.224819</td>\n",
       "      <td>0.123594</td>\n",
       "      <td>0.312171</td>\n",
       "      <td>-0.109681</td>\n",
       "      <td>-0.092775</td>\n",
       "      <td>0.242078</td>\n",
       "      <td>0.147310</td>\n",
       "    </tr>\n",
       "    <tr>\n",
       "      <th>116</th>\n",
       "      <td>0.269821</td>\n",
       "      <td>0.202915</td>\n",
       "      <td>1.000000</td>\n",
       "      <td>0.175049</td>\n",
       "      <td>0.215795</td>\n",
       "      <td>0.336205</td>\n",
       "      <td>0.345677</td>\n",
       "      <td>0.247348</td>\n",
       "      <td>0.273200</td>\n",
       "      <td>0.501648</td>\n",
       "      <td>...</td>\n",
       "      <td>0.317431</td>\n",
       "      <td>0.357426</td>\n",
       "      <td>0.280276</td>\n",
       "      <td>0.415804</td>\n",
       "      <td>0.145095</td>\n",
       "      <td>0.410156</td>\n",
       "      <td>0.152599</td>\n",
       "      <td>0.264419</td>\n",
       "      <td>0.393933</td>\n",
       "      <td>0.437245</td>\n",
       "    </tr>\n",
       "    <tr>\n",
       "      <th>156</th>\n",
       "      <td>0.270802</td>\n",
       "      <td>0.088366</td>\n",
       "      <td>0.175049</td>\n",
       "      <td>1.000000</td>\n",
       "      <td>0.061580</td>\n",
       "      <td>0.256052</td>\n",
       "      <td>0.178544</td>\n",
       "      <td>-0.031419</td>\n",
       "      <td>0.132963</td>\n",
       "      <td>0.332801</td>\n",
       "      <td>...</td>\n",
       "      <td>0.193050</td>\n",
       "      <td>0.259178</td>\n",
       "      <td>0.121299</td>\n",
       "      <td>0.185104</td>\n",
       "      <td>0.074637</td>\n",
       "      <td>0.224374</td>\n",
       "      <td>0.245798</td>\n",
       "      <td>0.272123</td>\n",
       "      <td>0.176687</td>\n",
       "      <td>0.196021</td>\n",
       "    </tr>\n",
       "    <tr>\n",
       "      <th>208</th>\n",
       "      <td>0.172821</td>\n",
       "      <td>0.304880</td>\n",
       "      <td>0.215795</td>\n",
       "      <td>0.061580</td>\n",
       "      <td>1.000000</td>\n",
       "      <td>0.005218</td>\n",
       "      <td>0.308763</td>\n",
       "      <td>0.118676</td>\n",
       "      <td>0.250497</td>\n",
       "      <td>0.132541</td>\n",
       "      <td>...</td>\n",
       "      <td>0.260259</td>\n",
       "      <td>0.194055</td>\n",
       "      <td>0.264405</td>\n",
       "      <td>0.142791</td>\n",
       "      <td>0.220351</td>\n",
       "      <td>0.366289</td>\n",
       "      <td>0.012213</td>\n",
       "      <td>-0.117251</td>\n",
       "      <td>0.336622</td>\n",
       "      <td>0.216713</td>\n",
       "    </tr>\n",
       "  </tbody>\n",
       "</table>\n",
       "<p>5 rows × 4144 columns</p>\n",
       "</div>"
      ],
      "text/plain": [
       "userId    54        104       116       156       208       298       347     \\\n",
       "userId                                                                         \n",
       "54      1.000000  0.114553  0.269821  0.270802  0.172821  0.245273  0.223953   \n",
       "104     0.114553  1.000000  0.202915  0.088366  0.304880 -0.099429  0.399825   \n",
       "116     0.269821  0.202915  1.000000  0.175049  0.215795  0.336205  0.345677   \n",
       "156     0.270802  0.088366  0.175049  1.000000  0.061580  0.256052  0.178544   \n",
       "208     0.172821  0.304880  0.215795  0.061580  1.000000  0.005218  0.308763   \n",
       "\n",
       "userId    348       359       367     ...    138208    138254    138270  \\\n",
       "userId                                ...                                 \n",
       "54     -0.070332  0.234784  0.116278  ...  0.156200  0.235974  0.142072   \n",
       "104     0.220794  0.183705  0.156648  ...  0.112484  0.158680  0.221710   \n",
       "116     0.247348  0.273200  0.501648  ...  0.317431  0.357426  0.280276   \n",
       "156    -0.031419  0.132963  0.332801  ...  0.193050  0.259178  0.121299   \n",
       "208     0.118676  0.250497  0.132541  ...  0.260259  0.194055  0.264405   \n",
       "\n",
       "userId    138301    138307    138325    138382    138397    138406    138437  \n",
       "userId                                                                        \n",
       "54      0.173876  0.156422  0.249429  0.248317  0.173988  0.286939  0.190875  \n",
       "104     0.224819  0.123594  0.312171 -0.109681 -0.092775  0.242078  0.147310  \n",
       "116     0.415804  0.145095  0.410156  0.152599  0.264419  0.393933  0.437245  \n",
       "156     0.185104  0.074637  0.224374  0.245798  0.272123  0.176687  0.196021  \n",
       "208     0.142791  0.220351  0.366289  0.012213 -0.117251  0.336622  0.216713  \n",
       "\n",
       "[5 rows x 4144 columns]"
      ]
     },
     "execution_count": 10,
     "metadata": {},
     "output_type": "execute_result"
    }
   ],
   "source": [
    "correlation_matrix.head()"
   ]
  },
  {
   "cell_type": "markdown",
   "id": "33e0c660",
   "metadata": {},
   "source": [
    "## Recommendation"
   ]
  },
  {
   "cell_type": "code",
   "execution_count": 11,
   "id": "f312bc20",
   "metadata": {},
   "outputs": [],
   "source": [
    "k = 50"
   ]
  },
  {
   "cell_type": "markdown",
   "id": "6c617f58",
   "metadata": {},
   "source": [
    "The next 2 functions will serv to calculate the inferred deviation (with the deviation being the `rating - average`, but since the purpose is just to give recomendations, it is not nedded to get the inferred rating, only what is the biggest deviation) of User `i` of Movie `j`. Witch is just the weighted average rating that the `k` most similar users (or most distinct users) to User `i` gave to the Movie `j`, with the correlation being the weight. "
   ]
  },
  {
   "cell_type": "code",
   "execution_count": 12,
   "id": "68f5368a",
   "metadata": {},
   "outputs": [],
   "source": [
    "def deviation_per_movie(column, correlations):\n",
    "    non_na_indices = column.dropna().index\n",
    "    weighted_ratings = column[non_na_indices] * correlations[non_na_indices]\n",
    "    sum_correlations = np.abs(correlations[non_na_indices]).sum()\n",
    "    return weighted_ratings.sum() / sum_correlations if sum_correlations != 0 else 0"
   ]
  },
  {
   "cell_type": "code",
   "execution_count": 13,
   "id": "5244e344",
   "metadata": {},
   "outputs": [],
   "source": [
    "def infer_deviations(userId, k=50):\n",
    "    correlation_user = correlation_matrix.loc[userId].drop(index=[userId]).fillna(value=0)\n",
    "    similar_users = np.argpartition(np.abs(correlation_user), -k)[-k:]\n",
    "    matrix_user = matrix.loc[correlation_user.index[similar_users]].iloc[:, matrix.loc[userId].isna().tolist()]\n",
    "    deviations = matrix_user.apply(lambda x: deviation_per_movie(x, correlations=correlation_user), axis=\"index\")\n",
    "    return deviations"
   ]
  },
  {
   "cell_type": "markdown",
   "id": "bd814a6a",
   "metadata": {},
   "source": [
    "## Exemple"
   ]
  },
  {
   "cell_type": "markdown",
   "id": "9f2465f2",
   "metadata": {},
   "source": [
    "In this example, we took the User `54` to get the inferred deviation of all the movies this user didn't rate "
   ]
  },
  {
   "cell_type": "code",
   "execution_count": 14,
   "id": "c944d79b",
   "metadata": {},
   "outputs": [
    {
     "data": {
      "text/plain": [
       "movieId\n",
       "19    -1.105431\n",
       "44    -1.304264\n",
       "48    -0.796795\n",
       "62     0.106117\n",
       "104   -0.255468\n",
       "dtype: float64"
      ]
     },
     "execution_count": 14,
     "metadata": {},
     "output_type": "execute_result"
    }
   ],
   "source": [
    "inferred_deviations = infer_deviations(54)\n",
    "inferred_deviations.head()"
   ]
  },
  {
   "cell_type": "markdown",
   "id": "e5ba3127",
   "metadata": {},
   "source": [
    "Sorting by the value returned, we get the top movies that we can recommend to this user"
   ]
  },
  {
   "cell_type": "code",
   "execution_count": 15,
   "id": "a0f76e90",
   "metadata": {},
   "outputs": [
    {
     "data": {
      "text/plain": [
       "movieId\n",
       "1250     1.055932\n",
       "58559    1.029973\n",
       "7153     1.026565\n",
       "912      1.014938\n",
       "6016     1.010674\n",
       "           ...   \n",
       "420     -1.403203\n",
       "762     -1.430324\n",
       "1882    -1.435546\n",
       "4015    -1.480059\n",
       "355     -1.545190\n",
       "Length: 404, dtype: float64"
      ]
     },
     "execution_count": 15,
     "metadata": {},
     "output_type": "execute_result"
    }
   ],
   "source": [
    "inferred_deviations.sort_values(ascending=False)"
   ]
  },
  {
   "cell_type": "markdown",
   "id": "fdc23d6e",
   "metadata": {},
   "source": [
    "# Tests"
   ]
  },
  {
   "cell_type": "markdown",
   "id": "62642738",
   "metadata": {},
   "source": [
    "The algorithm will calculate the infered deviation for all the movies all the users have rated, then using this data it will be possible to extract some metrics."
   ]
  },
  {
   "cell_type": "markdown",
   "id": "aac7ec15",
   "metadata": {},
   "source": [
    "To achieve this, the infer_deviations function will have to be modified "
   ]
  },
  {
   "cell_type": "code",
   "execution_count": 16,
   "id": "02f26b2c",
   "metadata": {},
   "outputs": [],
   "source": [
    "def test_infer_deviations(userId, k=50):\n",
    "    correlation_user = correlation_matrix.loc[userId].drop(index=[userId]).fillna(value=0)\n",
    "    similar_users = np.argpartition(np.abs(correlation_user), -k)[-k:]\n",
    "    matrix_user = matrix.loc[correlation_user.index[similar_users]].iloc[:, matrix.loc[userId].notna().tolist()] # Change in this line, .isna() becomes .notna()\n",
    "    deviations = matrix_user.apply(lambda x: deviation_per_movie(x, correlations=correlation_user), axis=\"index\")\n",
    "    return deviations"
   ]
  },
  {
   "cell_type": "code",
   "execution_count": 17,
   "id": "2fb74028",
   "metadata": {},
   "outputs": [],
   "source": [
    "users = matrix.index.tolist()"
   ]
  },
  {
   "cell_type": "code",
   "execution_count": 18,
   "id": "c1cb89eb",
   "metadata": {},
   "outputs": [],
   "source": [
    "y_pred = np.array(list())\n",
    "y_true = np.array(list())\n",
    "for user in users:\n",
    "    deviations = np.array(test_infer_deviations(userId=user))\n",
    "    ratings = np.array(matrix.loc[user][matrix.loc[user].notna()])\n",
    "    y_pred = np.append(y_pred, deviations)\n",
    "    y_true = np.append(y_true, ratings)    "
   ]
  },
  {
   "cell_type": "code",
   "execution_count": 19,
   "id": "abf3f111",
   "metadata": {},
   "outputs": [],
   "source": [
    "mse = np.mean((y_true - y_pred) ** 2)\n",
    "mae = np.mean(np.abs(y_true - y_pred))\n",
    "rmse = np.sqrt(np.mean((y_true - y_pred)**2))\n"
   ]
  },
  {
   "cell_type": "code",
   "execution_count": 20,
   "id": "6d7dd2cf",
   "metadata": {},
   "outputs": [
    {
     "name": "stdout",
     "output_type": "stream",
     "text": [
      "MSE:  0.526\n",
      "MAE:  0.557\n",
      "RMSE:  0.725\n"
     ]
    }
   ],
   "source": [
    "print(\"MSE: \", round(mse, 3))\n",
    "print(\"MAE: \", round(mae, 3))\n",
    "print(\"RMSE: \", round(rmse, 3))"
   ]
  },
  {
   "cell_type": "markdown",
   "id": "74b393cc",
   "metadata": {},
   "source": [
    "With the average error (MAE) being arround 0.55, a low margin of error is expected from the model. With the error distribution, it is possible to make a confidence interval to the error, assuming the error is approximately a normal distribution"
   ]
  },
  {
   "cell_type": "code",
   "execution_count": 21,
   "id": "b9bdf4aa",
   "metadata": {},
   "outputs": [],
   "source": [
    "error = y_true - y_pred"
   ]
  },
  {
   "cell_type": "markdown",
   "metadata": {},
   "source": [
    "To make a error bound for this case, we need to know the distribution of the error"
   ]
  },
  {
   "cell_type": "code",
   "execution_count": 24,
   "metadata": {},
   "outputs": [
    {
     "name": "stderr",
     "output_type": "stream",
     "text": [
      "c:\\Users\\ivanf\\miniconda3\\envs\\collabfiltering\\Lib\\site-packages\\seaborn\\_oldcore.py:1498: FutureWarning: is_categorical_dtype is deprecated and will be removed in a future version. Use isinstance(dtype, CategoricalDtype) instead\n",
      "  if pd.api.types.is_categorical_dtype(vector):\n",
      "c:\\Users\\ivanf\\miniconda3\\envs\\collabfiltering\\Lib\\site-packages\\seaborn\\_oldcore.py:1119: FutureWarning: use_inf_as_na option is deprecated and will be removed in a future version. Convert inf values to NaN before operating instead.\n",
      "  with pd.option_context('mode.use_inf_as_na', True):\n"
     ]
    },
    {
     "data": {
      "text/plain": [
       "<Axes: ylabel='Count'>"
      ]
     },
     "execution_count": 24,
     "metadata": {},
     "output_type": "execute_result"
    },
    {
     "data": {
      "image/png": "[encoded data removed]",
      "text/plain": [
       "<Figure size 640x480 with 1 Axes>"
      ]
     },
     "metadata": {},
     "output_type": "display_data"
    }
   ],
   "source": [
    "sns.histplot(error)"
   ]
  },
  {
   "cell_type": "markdown",
   "metadata": {},
   "source": [
    "We can see that the error follows a normal distribution, so..."
   ]
  },
  {
   "cell_type": "code",
   "execution_count": 22,
   "metadata": {},
   "outputs": [],
   "source": [
    "lower, higher = np.percentile(error, [10,90], method=\"normal_unbiased\")"
   ]
  },
  {
   "cell_type": "code",
   "execution_count": 23,
   "metadata": {},
   "outputs": [
    {
     "name": "stdout",
     "output_type": "stream",
     "text": [
      "Lower bound: -0.93380395246642; High bound: 0.8404133466493446\n"
     ]
    }
   ],
   "source": [
    "print(f\"Lower bound: {lower}; High bound: {higher}\")"
   ]
  },
  {
   "cell_type": "markdown",
   "id": "361216fa",
   "metadata": {},
   "source": [
    "With the error distribution, in 90% of cases the error will be between -0.93 and 0.84, witch can be used to make sure a recomendation is really a good recomendation for the user."
   ]
  }
 ],
 "metadata": {
  "kernelspec": {
   "display_name": "Python 3 (ipykernel)",
   "language": "python",
   "name": "python3"
  },
  "language_info": {
   "codemirror_mode": {
    "name": "ipython",
    "version": 3
   },
   "file_extension": ".py",
   "mimetype": "text/x-python",
   "name": "python",
   "nbconvert_exporter": "python",
   "pygments_lexer": "ipython3",
   "version": "3.12.0"
  }
 },
 "nbformat": 4,
 "nbformat_minor": 5
}
