{
 "cells": [
  {
   "cell_type": "markdown",
   "id": "c7442e6b",
   "metadata": {},
   "source": [
    "# Crop Data"
   ]
  },
  {
   "cell_type": "code",
   "execution_count": 1,
   "id": "5e7a497d",
   "metadata": {},
   "outputs": [],
   "source": [
    "def crop(df, percent):\n",
    "    print(\"Users:\", len(df[\"userId\"].unique()))\n",
    "    print(\"Movies:\", len(df[\"movieId\"].unique()))\n",
    "    user_counts = df[\"userId\"].value_counts()\n",
    "    top_users = user_counts[user_counts > user_counts.quantile(percent)]\n",
    "    df = df[df[\"userId\"].isin(top_users.index)]\n",
    "    movie_counts = df[\"movieId\"].value_counts()\n",
    "    top_movies = movie_counts[movie_counts > movie_counts.quantile(percent)]\n",
    "    df = df[df[\"movieId\"].isin(top_movies.index)]\n",
    "    print(df.shape)\n",
    "    print(\"Users:\", len(df[\"userId\"].unique()))\n",
    "    print(\"Movies:\", len(df[\"movieId\"].unique()))\n",
    "    return df"
   ]
  },
  {
   "cell_type": "code",
   "execution_count": null,
   "id": "d126c3e9",
   "metadata": {},
   "outputs": [],
   "source": [
    "rating = "
   ]
  }
 ],
 "metadata": {
  "kernelspec": {
   "display_name": "Python 3 (ipykernel)",
   "language": "python",
   "name": "python3"
  },
  "language_info": {
   "codemirror_mode": {
    "name": "ipython",
    "version": 3
   },
   "file_extension": ".py",
   "mimetype": "text/x-python",
   "name": "python",
   "nbconvert_exporter": "python",
   "pygments_lexer": "ipython3",
   "version": "3.11.5"
  }
 },
 "nbformat": 4,
 "nbformat_minor": 5
}
